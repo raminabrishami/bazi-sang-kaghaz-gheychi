{
 "cells": [
  {
   "cell_type": "code",
   "execution_count": null,
   "id": "3be482db",
   "metadata": {},
   "outputs": [],
   "source": [
    "import random\n",
    "from datetime import date\n",
    "from IPython.display import clear_output"
   ]
  },
  {
   "cell_type": "code",
   "execution_count": 150,
   "id": "2d4870cc",
   "metadata": {},
   "outputs": [],
   "source": [
    "def dobare():\n",
    "    b=input('aya dobare bazi mikonid ? : yes or no')\n",
    "    b=b.lower()\n",
    "    if b=='yes':\n",
    "        return True\n",
    "    elif b=='no':\n",
    "        return False\n",
    "    else:\n",
    "        print('eshtebah vared kardid')"
   ]
  },
  {
   "cell_type": "code",
   "execution_count": 151,
   "id": "e8b52c35",
   "metadata": {},
   "outputs": [],
   "source": [
    "def dast_bazikon():\n",
    "    while True:\n",
    "        x=input('lotfan yeki az mavared ra entekhab konid : sang , kaghaz , gheychi ')\n",
    "        if x=='sang' or x=='kaghaz' or x=='gheychi':\n",
    "            return x\n",
    "            break\n",
    "        else:\n",
    "            clear_output()\n",
    "            print('ehstebah vared kardid')\n",
    "    "
   ]
  },
  {
   "cell_type": "code",
   "execution_count": 152,
   "id": "816709f3",
   "metadata": {},
   "outputs": [],
   "source": [
    "def dast_pc():\n",
    "    d=('kaghaz','sang','gheychi')\n",
    "    f=random.choice(d)\n",
    "    return f\n"
   ]
  },
  {
   "cell_type": "code",
   "execution_count": 153,
   "id": "8ed48083",
   "metadata": {},
   "outputs": [],
   "source": [
    "def barande():\n",
    "    global pc\n",
    "    global bazikon\n",
    "    b=dast_bazikon()\n",
    "    p=dast_pc()\n",
    "    clear_output() \n",
    "    print('bazkon:',b)\n",
    "    print('pc:',p)\n",
    "    if b==p:\n",
    "        print('mosavi')\n",
    "        \n",
    "    elif b=='kaghaz' and p=='gheychi':\n",
    "        print('pc bord')\n",
    "        pc+=1\n",
    "        \n",
    "    elif p=='kaghaz' and b=='gheychi':\n",
    "        print('bazikon bord')\n",
    "        bazikon+=1\n",
    "        \n",
    "    elif p=='sang' and b=='gheychi':\n",
    "        print('pc bord')\n",
    "        pc+=1\n",
    "        \n",
    "    elif b=='sang' and p=='gheychi':\n",
    "        print('bazikon bord')\n",
    "        bazikon+=1\n",
    "        \n",
    "    elif p=='kaghaz' and b=='sang':\n",
    "        print('pc bord')\n",
    "        pc+=1\n",
    "        \n",
    "    elif b=='kaghaz' and p=='sang':\n",
    "        print('bazikon bord')\n",
    "        bazikon+=1\n",
    "         \n",
    "    print('pc:',pc,'bazikon:',bazikon)\n",
    "    print('============================')"
   ]
  },
  {
   "cell_type": "code",
   "execution_count": 154,
   "id": "ea1dd6b3",
   "metadata": {},
   "outputs": [],
   "source": [
    "class mohasebe():\n",
    "    def __init__(self,x):\n",
    "        self.x=x        \n",
    "    def mohasebe(self):\n",
    "        c=0\n",
    "        global pc\n",
    "        global bazikon\n",
    "        pc=0\n",
    "        bazikon=0\n",
    "        while c<self.x:\n",
    "            c+=1\n",
    "            barande()\n",
    "        \n",
    "            \n",
    "            "
   ]
  },
  {
   "cell_type": "code",
   "execution_count": 155,
   "id": "940acd98",
   "metadata": {},
   "outputs": [
    {
     "name": "stdout",
     "output_type": "stream",
     "text": [
      "bazkon: sang\n",
      "pc: kaghaz\n",
      "pc bord\n",
      "pc: 1 bazikon: 1\n",
      "============================\n",
      "aya dobare bazi mikonid ? : yes or nono\n"
     ]
    }
   ],
   "source": [
    "while True:\n",
    "    while True:\n",
    "        try:\n",
    "            x=int(input('chand dast mikhahid bazi konid :'))\n",
    "            break\n",
    "        except:\n",
    "            print('eshtebah ast')\n",
    "    v=mohasebe(x)\n",
    "    v.mohasebe()\n",
    "    if dobare()==False:\n",
    "        break\n",
    "    clear_output()"
   ]
  },
  {
   "cell_type": "code",
   "execution_count": null,
   "id": "008a5525",
   "metadata": {},
   "outputs": [],
   "source": []
  },
  {
   "cell_type": "code",
   "execution_count": null,
   "id": "54984ff5",
   "metadata": {},
   "outputs": [],
   "source": []
  }
 ],
 "metadata": {
  "kernelspec": {
   "display_name": "Python 3 (ipykernel)",
   "language": "python",
   "name": "python3"
  },
  "language_info": {
   "codemirror_mode": {
    "name": "ipython",
    "version": 3
   },
   "file_extension": ".py",
   "mimetype": "text/x-python",
   "name": "python",
   "nbconvert_exporter": "python",
   "pygments_lexer": "ipython3",
   "version": "3.9.13"
  }
 },
 "nbformat": 4,
 "nbformat_minor": 5
}
